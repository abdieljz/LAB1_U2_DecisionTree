{
 "cells": [
  {
   "cell_type": "code",
   "execution_count": 1,
   "id": "2b27972d",
   "metadata": {},
   "outputs": [],
   "source": [
    "'''Importación de librerias necesarias para el Laboratorio'''\n",
    "import pandas\n",
    "import pandas as pd\n",
    "import pydotplus\n",
    "import matplotlib.pyplot as plt\n",
    "import seaborn as sn\n",
    "from sklearn.tree import DecisionTreeClassifier\n",
    "from sklearn.model_selection import train_test_split\n",
    "from sklearn import metrics\n",
    "from sklearn.tree import export_graphviz\n",
    "from sklearn.metrics import confusion_matrix\n",
    "from sklearn import tree\n",
    "from six import StringIO \n",
    "from IPython.display import Image "
   ]
  },
  {
   "cell_type": "markdown",
   "id": "8c20970d",
   "metadata": {},
   "source": [
    "El dataset consisten en información médica, análisis de laboratorio.\n",
    "\n",
    "* Nº de Paciente\n",
    "* Nivel de Azúcar en Sangre\n",
    "* Edad\n",
    "* Sexo\n",
    "* Cociente de Creatinina (Cr)\n",
    "* Índice de Masa Corporal (IMC)\n",
    "* Urea\n",
    "* Colesterol (Chol)\n",
    "* Perfil de lípidos en ayunas\n",
    "* LDL\n",
    "* VLDL\n",
    "* Triglicéridos (TG) \n",
    "* Colesterol HDL\n",
    "* Clase HBA1C \n",
    "\n",
    "(La clase de enfermedad diabética del paciente puede ser diabético, no diabético o predictivo de diabetes)."
   ]
  },
  {
   "cell_type": "code",
   "execution_count": 2,
   "id": "d54de17a",
   "metadata": {},
   "outputs": [
    {
     "name": "stdout",
     "output_type": "stream",
     "text": [
      "      ID  No_Pation Gender  AGE  Urea  Cr  HbA1c  Chol   TG  HDL  LDL  VLDL  \\\n",
      "0    502      17975      F   50   4.7  46    4.9   4.2  0.9  2.4  1.4   0.5   \n",
      "1    735      34221      M   26   4.5  62    4.9   3.7  1.4  1.1  2.1   0.6   \n",
      "2    420      47975      F   50   4.7  46    4.9   4.2  0.9  2.4  1.4   0.5   \n",
      "3    680      87656      F   50   4.7  46    4.9   4.2  0.9  2.4  1.4   0.5   \n",
      "4    504      34223      M   33   7.1  46    4.9   4.9  1.0  0.8  2.0   0.4   \n",
      "..   ...        ...    ...  ...   ...  ..    ...   ...  ...  ...  ...   ...   \n",
      "995  200     454317      M   71  11.0  97    7.0   7.5  1.7  1.2  1.8   0.6   \n",
      "996  671     876534      M   31   3.0  60   12.3   4.1  2.2  0.7  2.4  15.4   \n",
      "997  669      87654      M   30   7.1  81    6.7   4.1  1.1  1.2  2.4   8.1   \n",
      "998   99      24004      M   38   5.8  59    6.7   5.3  2.0  1.6  2.9  14.0   \n",
      "999  248      24054      M   54   5.0  67    6.9   3.8  1.7  1.1  3.0   0.7   \n",
      "\n",
      "      BMI CLASS  \n",
      "0    24.0     N  \n",
      "1    23.0     N  \n",
      "2    24.0     N  \n",
      "3    24.0     N  \n",
      "4    21.0     N  \n",
      "..    ...   ...  \n",
      "995  30.0     Y  \n",
      "996  37.2    Y   \n",
      "997  27.4    Y   \n",
      "998  40.5    Y   \n",
      "999  33.0    Y   \n",
      "\n",
      "[1000 rows x 14 columns]\n"
     ]
    }
   ],
   "source": [
    "'''Lectura de csv, mediante pandas'''\n",
    "df = pandas.read_csv('DatasetofDiabetes.csv') \n",
    "'''Impresión del estado del dataset'''\n",
    "print(df) "
   ]
  },
  {
   "cell_type": "code",
   "execution_count": 3,
   "id": "ee7ce140",
   "metadata": {},
   "outputs": [
    {
     "name": "stdout",
     "output_type": "stream",
     "text": [
      "      ID  No_Pation Gender  AGE  Urea  Cr  HbA1c  Chol   TG  HDL  LDL  VLDL  \\\n",
      "0    502      17975      F   50   4.7  46    4.9   4.2  0.9  2.4  1.4   0.5   \n",
      "1    735      34221      M   26   4.5  62    4.9   3.7  1.4  1.1  2.1   0.6   \n",
      "2    420      47975      F   50   4.7  46    4.9   4.2  0.9  2.4  1.4   0.5   \n",
      "3    680      87656      F   50   4.7  46    4.9   4.2  0.9  2.4  1.4   0.5   \n",
      "4    504      34223      M   33   7.1  46    4.9   4.9  1.0  0.8  2.0   0.4   \n",
      "..   ...        ...    ...  ...   ...  ..    ...   ...  ...  ...  ...   ...   \n",
      "995  200     454317      M   71  11.0  97    7.0   7.5  1.7  1.2  1.8   0.6   \n",
      "996  671     876534      M   31   3.0  60   12.3   4.1  2.2  0.7  2.4  15.4   \n",
      "997  669      87654      M   30   7.1  81    6.7   4.1  1.1  1.2  2.4   8.1   \n",
      "998   99      24004      M   38   5.8  59    6.7   5.3  2.0  1.6  2.9  14.0   \n",
      "999  248      24054      M   54   5.0  67    6.9   3.8  1.7  1.1  3.0   0.7   \n",
      "\n",
      "      BMI  CLASS  \n",
      "0    24.0      0  \n",
      "1    23.0      0  \n",
      "2    24.0      0  \n",
      "3    24.0      0  \n",
      "4    21.0      0  \n",
      "..    ...    ...  \n",
      "995  30.0      1  \n",
      "996  37.2      1  \n",
      "997  27.4      1  \n",
      "998  40.5      1  \n",
      "999  33.0      1  \n",
      "\n",
      "[1000 rows x 14 columns]\n"
     ]
    }
   ],
   "source": [
    "'''Reemplazo de letras a números para el juego con datos estadísticos, donde \"N\" es 0 (no diabetico), \"Y\" es 1 (diabeticio) y \"P\" 2 (pre_diabetico)'''\n",
    "df.CLASS = df.CLASS.replace({'N': 0, 'Y': 1,'N ': 0, 'Y ': 1,'P':2})\n",
    "'''Impresión del estado del dataset'''\n",
    "print(df)  "
   ]
  },
  {
   "cell_type": "code",
   "execution_count": 4,
   "id": "f3b7ad91",
   "metadata": {},
   "outputs": [
    {
     "name": "stdout",
     "output_type": "stream",
     "text": [
      "      ID  No_Pation  Gender  AGE  Urea  Cr  HbA1c  Chol   TG  HDL  LDL  VLDL  \\\n",
      "0    502      17975       0   50   4.7  46    4.9   4.2  0.9  2.4  1.4   0.5   \n",
      "1    735      34221       1   26   4.5  62    4.9   3.7  1.4  1.1  2.1   0.6   \n",
      "2    420      47975       0   50   4.7  46    4.9   4.2  0.9  2.4  1.4   0.5   \n",
      "3    680      87656       0   50   4.7  46    4.9   4.2  0.9  2.4  1.4   0.5   \n",
      "4    504      34223       1   33   7.1  46    4.9   4.9  1.0  0.8  2.0   0.4   \n",
      "..   ...        ...     ...  ...   ...  ..    ...   ...  ...  ...  ...   ...   \n",
      "995  200     454317       1   71  11.0  97    7.0   7.5  1.7  1.2  1.8   0.6   \n",
      "996  671     876534       1   31   3.0  60   12.3   4.1  2.2  0.7  2.4  15.4   \n",
      "997  669      87654       1   30   7.1  81    6.7   4.1  1.1  1.2  2.4   8.1   \n",
      "998   99      24004       1   38   5.8  59    6.7   5.3  2.0  1.6  2.9  14.0   \n",
      "999  248      24054       1   54   5.0  67    6.9   3.8  1.7  1.1  3.0   0.7   \n",
      "\n",
      "      BMI  CLASS  \n",
      "0    24.0      0  \n",
      "1    23.0      0  \n",
      "2    24.0      0  \n",
      "3    24.0      0  \n",
      "4    21.0      0  \n",
      "..    ...    ...  \n",
      "995  30.0      1  \n",
      "996  37.2      1  \n",
      "997  27.4      1  \n",
      "998  40.5      1  \n",
      "999  33.0      1  \n",
      "\n",
      "[1000 rows x 14 columns]\n"
     ]
    }
   ],
   "source": [
    "'''Reemplazo de los generos'''\n",
    "df.Gender = df.Gender.replace({'M': 1, 'F': 0,'f': 0})\n",
    "'''Impresión del estado del dataset'''\n",
    "print(df)  "
   ]
  },
  {
   "cell_type": "code",
   "execution_count": 5,
   "id": "038f4ba0",
   "metadata": {},
   "outputs": [
    {
     "data": {
      "text/plain": [
       "1    844\n",
       "0    103\n",
       "2     53\n",
       "Name: CLASS, dtype: int64"
      ]
     },
     "execution_count": 5,
     "metadata": {},
     "output_type": "execute_result"
    }
   ],
   "source": [
    "'''Comprabación de variables objetivo '''\n",
    "df.CLASS.value_counts()"
   ]
  },
  {
   "cell_type": "code",
   "execution_count": 6,
   "id": "4598a7ee",
   "metadata": {},
   "outputs": [
    {
     "data": {
      "text/plain": [
       "ID   No_Pation  Gender  AGE  Urea  Cr   HbA1c  Chol  TG   HDL  LDL  VLDL  BMI   CLASS\n",
       "1    34325      1       56   20.8  800  9.0    4.6   2.0  1.2  2.5  0.9   35.0  1        1\n",
       "472  463        1       34   3.9   81   6.0    6.2   3.9  0.8  1.9  1.8   23.0  2        1\n",
       "459  48353      1       67   13.3  107  7.1    3.0   2.2  0.8  1.3  1.0   27.0  1        1\n",
       "460  34398      1       55   8.6   73   10.2   3.9   2.0  1.5  1.5  0.9   31.0  1        1\n",
       "461  48362      0       69   6.1   49   8.2    8.0   4.8  1.3  4.8  2.2   34.0  1        1\n",
       "                                                                                        ..\n",
       "170  24028      1       54   4.3   63   12.1   3.6   5.1  0.9  2.5  0.9   30.0  1        1\n",
       "     45395      1       50   4.8   70   8.0    5.2   2.7  1.4  2.7  1.2   20.0  1        1\n",
       "171  42329      0       79   5.2   54   9.2    6.4   3.0  1.1  4.1  1.3   30.0  1        1\n",
       "     45434      1       40   22.0  159  5.4    3.1   1.6  1.1  1.3  0.7   24.0  0        1\n",
       "800  34518      0       52   4.7   34   9.9    5.1   4.5  0.6  2.7  2.0   26.0  1        1\n",
       "Length: 1000, dtype: int64"
      ]
     },
     "execution_count": 6,
     "metadata": {},
     "output_type": "execute_result"
    }
   ],
   "source": [
    "'''Visualización final de dataset'''\n",
    "df.value_counts()"
   ]
  },
  {
   "cell_type": "code",
   "execution_count": null,
   "id": "46142a49",
   "metadata": {},
   "outputs": [],
   "source": [
    "'''Determinar variables objetivo (dependientes) y características (independientes), ID y No_Pation \n",
    "fueron excluidas por no ser revelantes ni factibles para los procesimientos matemáticos'''\n",
    "feature_cols = ['Gender', 'AGE', 'Urea', 'Cr', 'HbA1c', 'Chol', 'TG','HDL','LDL','VLDL','BMI']\n",
    "'''X es la variable características'''\n",
    "X = df[feature_cols] \n",
    "'''y es la variable objetivo'''\n",
    "y = df.CLASS"
   ]
  },
  {
   "cell_type": "code",
   "execution_count": null,
   "id": "2bd57437",
   "metadata": {},
   "outputs": [],
   "source": []
  },
  {
   "cell_type": "code",
   "execution_count": null,
   "id": "277db308",
   "metadata": {},
   "outputs": [],
   "source": []
  },
  {
   "cell_type": "code",
   "execution_count": null,
   "id": "feb740f8",
   "metadata": {},
   "outputs": [],
   "source": []
  }
 ],
 "metadata": {
  "kernelspec": {
   "display_name": "Python 3 (ipykernel)",
   "language": "python",
   "name": "python3"
  },
  "language_info": {
   "codemirror_mode": {
    "name": "ipython",
    "version": 3
   },
   "file_extension": ".py",
   "mimetype": "text/x-python",
   "name": "python",
   "nbconvert_exporter": "python",
   "pygments_lexer": "ipython3",
   "version": "3.9.12"
  }
 },
 "nbformat": 4,
 "nbformat_minor": 5
}
