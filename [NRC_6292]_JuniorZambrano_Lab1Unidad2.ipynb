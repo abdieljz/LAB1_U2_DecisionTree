{
 "cells": [
  {
   "cell_type": "code",
   "execution_count": 1,
   "id": "04f544f7",
   "metadata": {},
   "outputs": [],
   "source": [
    "'''Importación de librerias necesarias para el Laboratorio'''\n",
    "import pandas\n",
    "import pandas as pd\n",
    "import pydotplus\n",
    "import matplotlib.pyplot as plt\n",
    "import seaborn as sn\n",
    "from sklearn.tree import DecisionTreeClassifier\n",
    "from sklearn.model_selection import train_test_split\n",
    "from sklearn import metrics\n",
    "from sklearn.tree import export_graphviz\n",
    "from sklearn.metrics import confusion_matrix\n",
    "from sklearn import tree\n",
    "from six import StringIO \n",
    "from IPython.display import Image "
   ]
  },
  {
   "cell_type": "markdown",
   "id": "94451bdd",
   "metadata": {},
   "source": [
    "El dataset consisten en información médica, análisis de laboratorio.\n",
    "\n",
    "* Nº de Paciente\n",
    "* Nivel de Azúcar en Sangre\n",
    "* Edad\n",
    "* Sexo\n",
    "* Cociente de Creatinina (Cr)\n",
    "* Índice de Masa Corporal (IMC)\n",
    "* Urea\n",
    "* Colesterol (Chol)\n",
    "* Perfil de lípidos en ayunas\n",
    "* LDL\n",
    "* VLDL\n",
    "* Triglicéridos (TG) \n",
    "* Colesterol HDL\n",
    "* Clase HBA1C \n",
    "\n",
    "(La clase de enfermedad diabética del paciente puede ser diabético, no diabético o predictivo de diabetes)."
   ]
  },
  {
   "cell_type": "code",
   "execution_count": 2,
   "id": "0a648a75",
   "metadata": {},
   "outputs": [
    {
     "name": "stdout",
     "output_type": "stream",
     "text": [
      "      ID  No_Pation Gender  AGE  Urea  Cr  HbA1c  Chol   TG  HDL  LDL  VLDL  \\\n",
      "0    502      17975      F   50   4.7  46    4.9   4.2  0.9  2.4  1.4   0.5   \n",
      "1    735      34221      M   26   4.5  62    4.9   3.7  1.4  1.1  2.1   0.6   \n",
      "2    420      47975      F   50   4.7  46    4.9   4.2  0.9  2.4  1.4   0.5   \n",
      "3    680      87656      F   50   4.7  46    4.9   4.2  0.9  2.4  1.4   0.5   \n",
      "4    504      34223      M   33   7.1  46    4.9   4.9  1.0  0.8  2.0   0.4   \n",
      "..   ...        ...    ...  ...   ...  ..    ...   ...  ...  ...  ...   ...   \n",
      "995  200     454317      M   71  11.0  97    7.0   7.5  1.7  1.2  1.8   0.6   \n",
      "996  671     876534      M   31   3.0  60   12.3   4.1  2.2  0.7  2.4  15.4   \n",
      "997  669      87654      M   30   7.1  81    6.7   4.1  1.1  1.2  2.4   8.1   \n",
      "998   99      24004      M   38   5.8  59    6.7   5.3  2.0  1.6  2.9  14.0   \n",
      "999  248      24054      M   54   5.0  67    6.9   3.8  1.7  1.1  3.0   0.7   \n",
      "\n",
      "      BMI CLASS  \n",
      "0    24.0     N  \n",
      "1    23.0     N  \n",
      "2    24.0     N  \n",
      "3    24.0     N  \n",
      "4    21.0     N  \n",
      "..    ...   ...  \n",
      "995  30.0     Y  \n",
      "996  37.2    Y   \n",
      "997  27.4    Y   \n",
      "998  40.5    Y   \n",
      "999  33.0    Y   \n",
      "\n",
      "[1000 rows x 14 columns]\n"
     ]
    }
   ],
   "source": [
    "'''Lectura de csv, mediante pandas'''\n",
    "df = pandas.read_csv('DatasetofDiabetes.csv') \n",
    "'''Impresión del estado del dataset'''\n",
    "print(df) "
   ]
  },
  {
   "cell_type": "code",
   "execution_count": null,
   "id": "360960b3",
   "metadata": {},
   "outputs": [],
   "source": []
  }
 ],
 "metadata": {
  "kernelspec": {
   "display_name": "Python 3 (ipykernel)",
   "language": "python",
   "name": "python3"
  },
  "language_info": {
   "codemirror_mode": {
    "name": "ipython",
    "version": 3
   },
   "file_extension": ".py",
   "mimetype": "text/x-python",
   "name": "python",
   "nbconvert_exporter": "python",
   "pygments_lexer": "ipython3",
   "version": "3.9.12"
  }
 },
 "nbformat": 4,
 "nbformat_minor": 5
}
